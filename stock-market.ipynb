{
 "cells": [
  {
   "cell_type": "markdown",
   "metadata": {},
   "source": [
    "Step 1: Importing dependencies."
   ]
  },
  {
   "cell_type": "code",
   "execution_count": null,
   "metadata": {},
   "outputs": [],
   "source": [
    "import pandas as pd\n",
    "import numpy as np\n",
    "import matplotlib.pyplot as plt\n",
    "import seaborn as sns\n",
    "import io\n",
    "from scipy import stats\n",
    "from google.colab import drive\n",
    "import os"
   ]
  },
  {
   "cell_type": "markdown",
   "metadata": {},
   "source": [
    "Step 2: Visualization config"
   ]
  },
  {
   "cell_type": "code",
   "execution_count": null,
   "metadata": {},
   "outputs": [],
   "source": [
    "sns.set_style('whitegrid')\n",
    "plt.rcParams['figure.figsize'] = (10, 6)"
   ]
  },
  {
   "cell_type": "markdown",
   "metadata": {},
   "source": [
    "Step 3: defining variable and preparing csv file"
   ]
  },
  {
   "cell_type": "code",
   "execution_count": null,
   "metadata": {},
   "outputs": [],
   "source": [
    "csv_path = \"/content/synthetic_stock_data.csv\""
   ]
  },
  {
   "cell_type": "markdown",
   "metadata": {},
   "source": [
    "Step 4: first visualization data"
   ]
  },
  {
   "cell_type": "code",
   "execution_count": null,
   "metadata": {},
   "outputs": [],
   "source": [
    "# --- Verificar si el archivo existe en la ruta ---\n",
    "if os.path.exists(csv_path):\n",
    "    print(f\"Archivo encontrado en: {csv_path}\")\n",
    "    # --- Cargar el conjunto de datos ---\n",
    "    try:\n",
    "        df = pd.read_csv(csv_path)\n",
    "        print(\"¡DataFrame cargado exitosamente!\")\n",
    "\n",
    "        # ==================================================\n",
    "        # 1.    Carga inicial del proyecto.\n",
    "        # ==================================================\n",
    "        print(\"\\n----- 1. Carga e Inspección Inicial -----\")\n",
    "\n",
    "        # Ver las primeras y últimas filas\n",
    "        print(\"\\nPrimeras 5 filas:\")\n",
    "        print(df.head())\n",
    "        print(\"\\nÚltimas 5 filas:\")\n",
    "        print(df.tail())\n",
    "\n",
    "        # Obtener dimensiones\n",
    "        print(f\"\\nDimensiones del DataFrame (filas, columnas): {df.shape}\")\n",
    "\n",
    "        # Revisar tipos de datos y valores no nulos\n",
    "        print(\"\\nInformación del DataFrame (Tipos de datos y Nulos):\")\n",
    "        df.info()\n",
    "\n",
    "        # Obtener estadísticas descriptivas básicas para variables numéricas\n",
    "        print(\"\\nEstadísticas Descriptivas (Variables Numéricas):\")\n",
    "        print(df.describe().T) # Usar .T para transponer y facilitar la lectura\n",
    "\n",
    "        # Contar valores únicos por columna\n",
    "        print(\"\\nConteo de Valores Únicos por Columna:\")\n",
    "        print(df.nunique())\n",
    "\n",
    "        # ... (Aquí pegarías el resto del código del EDA: Limpieza, Univariado, Bivariado, etc.) ...\n",
    "        # El resto del código que te proporcioné anteriormente funcionará\n",
    "        # a partir de aquí, ya que la variable 'df' ahora contiene tus datos.\n",
    "\n",
    "    except Exception as e:\n",
    "        print(f\"Error al leer el archivo CSV: {e}\")\n",
    "        print(\"Asegúrate de que el archivo se subió correctamente y no está corrupto.\")\n",
    "\n",
    "else:\n",
    "    print(f\"¡ERROR! No se encontró el archivo en la ruta: {csv_path}\")\n",
    "    print(\"Por favor, asegúrate de haber subido el archivo 'synthetic_stock_data.csv' a tu sesión actual de Colab.\")\n",
    "    print(\"Puedes hacerlo usando el botón 'Subir archivo' en el panel de archivos de la izquierda.\")"
   ]
  }
 ],
 "metadata": {
  "language_info": {
   "name": "python"
  }
 },
 "nbformat": 4,
 "nbformat_minor": 2
}
